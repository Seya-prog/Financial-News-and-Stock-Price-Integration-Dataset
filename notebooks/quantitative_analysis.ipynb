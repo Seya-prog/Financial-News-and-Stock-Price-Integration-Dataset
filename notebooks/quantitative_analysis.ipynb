{
    "cells": [
        {
            "cell_type": "markdown",
            "metadata": {},
            "source": [
                "# Task 2: Quantitative Analysis using PyNance and TA-Lib (Multi-Ticker)"
            ]
        },
        {
            "cell_type": "markdown",
            "metadata": {},
            "source": [
                "## 1. Setup and Imports"
            ]
        },
        {
            "cell_type": "code",
            "execution_count": null,
            "metadata": {},
            "outputs": [],
            "source": [
                "import pandas as pd\n",
                "import numpy as np\n",
                "import matplotlib.pyplot as plt\n",
                "import seaborn as sns\n",
                "import talib\n",
                "from pynance import Pynance\n",
                "import os\n",
                "import re # For extracting ticker from filename\n",
                "\n",
                "# Set plot style\n",
                "sns.set_style('whitegrid')\n",
                "plt.rcParams['figure.figsize'] = (15, 7)"
            ]
        },
        {
            "cell_type": "markdown",
            "metadata": {},
            "source": [
                "## 2. Define Data Path and Identify Stock Data Files"
            ]
        },
        {
            "cell_type": "code",
            "execution_count": null,
            "metadata": {},
            "outputs": [],
            "source": [
                "data_directory = '../data/raw/yfinance_data/' # Relative path from notebooks directory\n",
                "stock_files = {}\n",
                "\n",
                "if os.path.exists(data_directory):\n",
                "    for filename in os.listdir(data_directory):\n",
                "        if filename.endswith('_historical_data.csv'):\n",
                "            match = re.match(r\"(.+)_historical_data.csv\", filename)\n",
                "            if match:\n",
                "                ticker_symbol = match.group(1)\n",
                "                stock_files[ticker_symbol] = os.path.join(data_directory, filename)\n",
                "else:\n",
                "    print(f\"Error: Data directory not found at {os.path.abspath(data_directory)}\")\n",
                "\n",
                "if not stock_files:\n",
                "    print(f\"No stock data files found in {data_directory}. Please check the path and filenames.\")\n",
                "else:\n",
                "    print(f\"Found stock data for the following tickers: {list(stock_files.keys())}\")"
            ]
        },
        {
            "cell_type": "markdown",
            "metadata": {},
            "source": [
                "## 3. Loop Through Each Stock for Analysis and Visualization"
            ]
        },
        {
            "cell_type": "code",
            "execution_count": null,
            "metadata": {},
            "outputs": [],
            "source": [
                "for ticker_symbol, filepath in stock_files.items():\n",
                "    print(f\"\\nProcessing data for ticker: {ticker_symbol} from {filepath}...\")\n",
                "    \n",
                "    # --- 3.1 Load and Prepare Data ---\n",
                "    try:\n",
                "        data = pd.read_csv(filepath)\n",
                "        data['Date'] = pd.to_datetime(data['Date'])\n",
                "        data.set_index('Date', inplace=True)\n",
                "    except Exception as e:\n",
                "        print(f\"Error loading data for {ticker_symbol}: {e}\")\n",
                "        continue # Skip to the next ticker if data loading fails\n",
                "\n",
                "    # Verify required columns\n",
                "    required_columns = ['Open', 'High', 'Low', 'Close', 'Volume']\n",
                "    missing_columns = [col for col in required_columns if col not in data.columns]\n",
                "    if missing_columns:\n",
                "        print(f\"Error for {ticker_symbol}: Missing required columns: {missing_columns}. Skipping this ticker.\")\n",
                "        continue\n",
                "    \n",
                "    print(f\"Data loaded successfully for {ticker_symbol}. Shape: {data.shape}\")\n",
                "    # print(data.head())\n",
                "    # print(data.isnull().sum())\n",
                "\n",
                "    # --- 3.2 Apply Analysis Indicators with TA-Lib ---\n",
                "    print(f\"Calculating TA-Lib indicators for {ticker_symbol}...\")\n",
                "    try:\n",
                "        data['SMA_20'] = talib.SMA(data['Close'], timeperiod=20)\n",
                "        data['EMA_20'] = talib.EMA(data['Close'], timeperiod=20)\n",
                "        data['RSI'] = talib.RSI(data['Close'], timeperiod=14)\n",
                "        macd, macdsignal, macdhist = talib.MACD(data['Close'], fastperiod=12, slowperiod=26, signalperiod=9)\n",
                "        data['MACD'] = macd\n",
                "        data['MACD_Signal'] = macdsignal\n",
                "        data['MACD_Hist'] = macdhist\n",
                "    except Exception as e:\n",
                "        print(f\"Error calculating TA-Lib indicators for {ticker_symbol}: {e}\")\n",
                "        # Continue with available data if some indicators fail\n",
                "        pass\n",
                "\n",
                "    # --- 3.3 Use PyNance for Financial Metrics ---\n",
                "    print(f\"Attempting PyNance metrics for {ticker_symbol}...\")\n",
                "    pynance_data = data.reset_index().rename(columns={\n",
                "        'Date': 'date',\n",
                "        'Open': 'open',\n",
                "        'High': 'high',\n",
                "        'Low': 'low',\n",
                "        'Close': 'close',\n",
                "        'Adj Close': 'adj_close',\n",
                "        'Volume': 'volume'\n",
                "    })\n",
                "    pynance_data['date'] = pd.to_datetime(pynance_data['date'])\n",
                "    \n",
                "    try:\n",
                "        stock_analyzer = Pynance(pynance_data)\n",
                "        returns = stock_analyzer.get_returns()\n",
                "        # print(f\"PyNance Returns for {ticker_symbol}:\\n{returns.tail()}\")\n",
                "        log_returns = stock_analyzer.get_log_returns()\n",
                "        # print(f\"PyNance Log Returns for {ticker_symbol}:\\n{log_returns.tail()}\")\n",
                "    except Exception as e:\n",
                "        print(f\"Error using PyNance for {ticker_symbol}: {e}. Proceeding without PyNance metrics.\")\n",
                "\n",
                "    # --- 3.4 Visualize the Data ---\n",
                "    print(f\"Generating visualizations for {ticker_symbol}...\")\n",
                "    \n",
                "    # Plot 1: Stock Price with Moving Averages\n",
                "    if 'SMA_20' in data.columns and 'EMA_20' in data.columns:\n",
                "        plt.figure(figsize=(15,7))\n",
                "        plt.plot(data.index, data['Close'], label='Close Price')\n",
                "        plt.plot(data.index, data['SMA_20'], label='20-Day SMA')\n",
                "        plt.plot(data.index, data['EMA_20'], label='20-Day EMA')\n",
                "        plt.title(f'{ticker_symbol} Close Price with Moving Averages')\n",
                "        plt.xlabel('Date')\n",
                "        plt.ylabel('Price')\n",
                "        plt.legend()\n",
                "        plt.show()\n",
                "    \n",
                "    # Plot 2: RSI\n",
                "    if 'RSI' in data.columns:\n",
                "        plt.figure(figsize=(15,7))\n",
                "        plt.plot(data.index, data['RSI'], label='RSI')\n",
                "        plt.axhline(70, linestyle='--', alpha=0.5, color='red', label='Overbought (70)')\n",
                "        plt.axhline(30, linestyle='--', alpha=0.5, color='green', label='Oversold (30)')\n",
                "        plt.title(f'{ticker_symbol} RSI (14-Day)')\n",
                "        plt.xlabel('Date')\n",
                "        plt.ylabel('RSI')\n",
                "        plt.legend()\n",
                "        plt.show()\n",
                "    \n",
                "    # Plot 3: MACD\n",
                "    if 'MACD' in data.columns and 'MACD_Signal' in data.columns and 'MACD_Hist' in data.columns:\n",
                "        fig, ax = plt.subplots(2, 1, figsize=(15, 10), sharex=True)\n",
                "        ax[0].plot(data.index, data['Close'], label='Close Price')\n",
                "        ax[0].plot(data.index, data['MACD'], label='MACD', color='blue')\n",
                "        ax[0].plot(data.index, data['MACD_Signal'], label='Signal Line', color='red')\n",
                "        ax[0].set_title(f'{ticker_symbol} Close Price, MACD & Signal Line')\n",
                "        ax[0].legend()\n",
                "        \n",
                "        ax[1].bar(data.index, data['MACD_Hist'], label='MACD Histogram', color=data['MACD_Hist'].apply(lambda x: 'g' if x >=0 else 'r'))\n",
                "        ax[1].set_title(f'{ticker_symbol} MACD Histogram')\n",
                "        ax[1].legend()\n",
                "        plt.xlabel('Date')\n",
                "        plt.tight_layout()\n",
                "        plt.show()\n",
                "        \n",
                "    print(f\"Finished processing for ticker: {ticker_symbol}\")\n",
                "\n",
                "print(\"\\nAll specified stock data files have been processed.\")"
            ]
        },
        {
            "cell_type": "markdown",
            "metadata": {},
            "source": [
                "## 4. Summary and Next Steps\n",
                "\n",
                "This notebook demonstrates:\n",
                "1. Identifying and loading multiple stock data files from a specified directory.\n",
                "2. For each stock:\n",
                "    - Calculating key technical indicators using TA-Lib (SMA, EMA, RSI, MACD).\n",
                "    - Attempting to use PyNance for financial metrics.\n",
                "    - Visualizing these indicators to understand their impact on stock prices.\n",
                "\n",
                "Further analysis could involve:\n",
                "- Deeper exploration of PyNance capabilities if the library proves stable and useful.\n",
                "- Aggregating results or performing comparative analysis across tickers.\n",
                "- Integrating sentiment data (from other project tasks) with these quantitative indicators for each stock.\n",
                "- Building predictive models based on the combined dataset."
            ]
        },
        {
            "cell_type": "code",
            "execution_count": null,
            "metadata": {},
            "outputs": [],
            "source": []
        }
    ],
    "metadata": {
        "kernelspec": {
            "display_name": "Python 3",
            "language": "python",
            "name": "python3"
        },
        "language_info": {
            "codemirror_mode": {
                "name": "ipython",
                "version": 3
            },
            "file_extension": ".py",
            "mimetype": "text/x-python",
            "name": "python",
            "nbconvert_exporter": "python",
            "pygments_lexer": "ipython3",
            "version": "3.10.0"
        }
    },
    "nbformat": 4,
    "nbformat_minor": 5
}